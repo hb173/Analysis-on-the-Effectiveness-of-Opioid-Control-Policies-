{
 "cells": [
  {
   "cell_type": "markdown",
   "metadata": {},
   "source": [
    "### Plot Diff-in-Diff for Florida, Texas, and Washington"
   ]
  },
  {
   "cell_type": "code",
   "execution_count": 1,
   "metadata": {},
   "outputs": [],
   "source": [
    "import pandas as pd\n",
    "import seaborn as sns\n",
    "import matplotlib.pyplot as plt\n",
    "import numpy as np"
   ]
  },
  {
   "cell_type": "code",
   "execution_count": 2,
   "metadata": {},
   "outputs": [],
   "source": [
    "fl_mortality = pd.read_csv(\"../00_source_data/fl_mortality.csv\", sep=\",\", index_col=0)\n",
    "tx_mortality = pd.read_csv(\"../00_source_data/tx_mortality.csv\", sep=\",\", index_col=0)\n",
    "wa_mortality = pd.read_csv(\"../00_source_data/wa_mortality.csv\", sep=\",\", index_col=0)\n",
    "mortality_compare_to_fl = pd.read_csv(\n",
    "    \"../00_Source_data/Comparison/mortality_comparisons_for_fl.csv\", sep=\",\", index_col=0\n",
    ")\n",
    "mortality_compare_to_tx = pd.read_csv(\n",
    "    \"../00_Source_data/Comparison/mortality_comparisons_for_tx.csv\", sep=\",\", index_col=0\n",
    ")\n",
    "mortality_compare_to_wa = pd.read_csv(\n",
    "    \"../00_Source_data/Comparison/mortality_comparisons_for_wa.csv\", sep=\",\", index_col=0\n",
    ")"
   ]
  },
  {
   "cell_type": "code",
   "execution_count": 3,
   "metadata": {},
   "outputs": [
    {
     "data": {
      "text/html": [
       "<div>\n",
       "<style scoped>\n",
       "    .dataframe tbody tr th:only-of-type {\n",
       "        vertical-align: middle;\n",
       "    }\n",
       "\n",
       "    .dataframe tbody tr th {\n",
       "        vertical-align: top;\n",
       "    }\n",
       "\n",
       "    .dataframe thead th {\n",
       "        text-align: right;\n",
       "    }\n",
       "</style>\n",
       "<table border=\"1\" class=\"dataframe\">\n",
       "  <thead>\n",
       "    <tr style=\"text-align: right;\">\n",
       "      <th></th>\n",
       "      <th>Year</th>\n",
       "      <th>County</th>\n",
       "      <th>Deaths</th>\n",
       "      <th>Population</th>\n",
       "      <th>State</th>\n",
       "      <th>Mortality Rate</th>\n",
       "    </tr>\n",
       "  </thead>\n",
       "  <tbody>\n",
       "    <tr>\n",
       "      <th>0</th>\n",
       "      <td>2003</td>\n",
       "      <td>Alachua County</td>\n",
       "      <td>11.0</td>\n",
       "      <td>227022.0</td>\n",
       "      <td>FL</td>\n",
       "      <td>0.000048</td>\n",
       "    </tr>\n",
       "    <tr>\n",
       "      <th>1</th>\n",
       "      <td>2003</td>\n",
       "      <td>Baker County</td>\n",
       "      <td>8.0</td>\n",
       "      <td>23555.0</td>\n",
       "      <td>FL</td>\n",
       "      <td>0.000340</td>\n",
       "    </tr>\n",
       "    <tr>\n",
       "      <th>2</th>\n",
       "      <td>2003</td>\n",
       "      <td>Bay County</td>\n",
       "      <td>21.0</td>\n",
       "      <td>155044.0</td>\n",
       "      <td>FL</td>\n",
       "      <td>0.000135</td>\n",
       "    </tr>\n",
       "    <tr>\n",
       "      <th>3</th>\n",
       "      <td>2003</td>\n",
       "      <td>Bradford County</td>\n",
       "      <td>4.0</td>\n",
       "      <td>27035.0</td>\n",
       "      <td>FL</td>\n",
       "      <td>0.000148</td>\n",
       "    </tr>\n",
       "    <tr>\n",
       "      <th>4</th>\n",
       "      <td>2003</td>\n",
       "      <td>Brevard County</td>\n",
       "      <td>97.0</td>\n",
       "      <td>504847.0</td>\n",
       "      <td>FL</td>\n",
       "      <td>0.000192</td>\n",
       "    </tr>\n",
       "    <tr>\n",
       "      <th>...</th>\n",
       "      <td>...</td>\n",
       "      <td>...</td>\n",
       "      <td>...</td>\n",
       "      <td>...</td>\n",
       "      <td>...</td>\n",
       "      <td>...</td>\n",
       "    </tr>\n",
       "    <tr>\n",
       "      <th>866</th>\n",
       "      <td>2015</td>\n",
       "      <td>Union County</td>\n",
       "      <td>4.0</td>\n",
       "      <td>15265.0</td>\n",
       "      <td>FL</td>\n",
       "      <td>0.000262</td>\n",
       "    </tr>\n",
       "    <tr>\n",
       "      <th>867</th>\n",
       "      <td>2015</td>\n",
       "      <td>Volusia County</td>\n",
       "      <td>98.0</td>\n",
       "      <td>516730.0</td>\n",
       "      <td>FL</td>\n",
       "      <td>0.000190</td>\n",
       "    </tr>\n",
       "    <tr>\n",
       "      <th>868</th>\n",
       "      <td>2015</td>\n",
       "      <td>Wakulla County</td>\n",
       "      <td>1.0</td>\n",
       "      <td>31523.0</td>\n",
       "      <td>FL</td>\n",
       "      <td>0.000032</td>\n",
       "    </tr>\n",
       "    <tr>\n",
       "      <th>869</th>\n",
       "      <td>2015</td>\n",
       "      <td>Walton County</td>\n",
       "      <td>5.0</td>\n",
       "      <td>63066.0</td>\n",
       "      <td>FL</td>\n",
       "      <td>0.000079</td>\n",
       "    </tr>\n",
       "    <tr>\n",
       "      <th>870</th>\n",
       "      <td>2015</td>\n",
       "      <td>Washington County</td>\n",
       "      <td>2.0</td>\n",
       "      <td>24552.0</td>\n",
       "      <td>FL</td>\n",
       "      <td>0.000081</td>\n",
       "    </tr>\n",
       "  </tbody>\n",
       "</table>\n",
       "<p>871 rows × 6 columns</p>\n",
       "</div>"
      ],
      "text/plain": [
       "     Year             County  Deaths  Population State  Mortality Rate\n",
       "0    2003     Alachua County    11.0    227022.0    FL        0.000048\n",
       "1    2003       Baker County     8.0     23555.0    FL        0.000340\n",
       "2    2003         Bay County    21.0    155044.0    FL        0.000135\n",
       "3    2003    Bradford County     4.0     27035.0    FL        0.000148\n",
       "4    2003     Brevard County    97.0    504847.0    FL        0.000192\n",
       "..    ...                ...     ...         ...   ...             ...\n",
       "866  2015       Union County     4.0     15265.0    FL        0.000262\n",
       "867  2015     Volusia County    98.0    516730.0    FL        0.000190\n",
       "868  2015     Wakulla County     1.0     31523.0    FL        0.000032\n",
       "869  2015      Walton County     5.0     63066.0    FL        0.000079\n",
       "870  2015  Washington County     2.0     24552.0    FL        0.000081\n",
       "\n",
       "[871 rows x 6 columns]"
      ]
     },
     "execution_count": 3,
     "metadata": {},
     "output_type": "execute_result"
    }
   ],
   "source": [
    "fl_mortality"
   ]
  },
  {
   "cell_type": "code",
   "execution_count": 4,
   "metadata": {
    "collapsed": true,
    "jupyter": {
     "outputs_hidden": true
    }
   },
   "outputs": [
    {
     "data": {
      "text/html": [
       "<div>\n",
       "<style scoped>\n",
       "    .dataframe tbody tr th:only-of-type {\n",
       "        vertical-align: middle;\n",
       "    }\n",
       "\n",
       "    .dataframe tbody tr th {\n",
       "        vertical-align: top;\n",
       "    }\n",
       "\n",
       "    .dataframe thead th {\n",
       "        text-align: right;\n",
       "    }\n",
       "</style>\n",
       "<table border=\"1\" class=\"dataframe\">\n",
       "  <thead>\n",
       "    <tr style=\"text-align: right;\">\n",
       "      <th></th>\n",
       "      <th>Year</th>\n",
       "      <th>County</th>\n",
       "      <th>Deaths</th>\n",
       "      <th>Population</th>\n",
       "      <th>State</th>\n",
       "      <th>Mortality Rate</th>\n",
       "    </tr>\n",
       "  </thead>\n",
       "  <tbody>\n",
       "    <tr>\n",
       "      <th>0</th>\n",
       "      <td>2003</td>\n",
       "      <td>Adams County</td>\n",
       "      <td>8.0</td>\n",
       "      <td>67267.0</td>\n",
       "      <td>IL</td>\n",
       "      <td>0.000119</td>\n",
       "    </tr>\n",
       "    <tr>\n",
       "      <th>1</th>\n",
       "      <td>2003</td>\n",
       "      <td>Alexander County</td>\n",
       "      <td>0.0</td>\n",
       "      <td>9254.0</td>\n",
       "      <td>IL</td>\n",
       "      <td>0.000000</td>\n",
       "    </tr>\n",
       "    <tr>\n",
       "      <th>2</th>\n",
       "      <td>2003</td>\n",
       "      <td>Bond County</td>\n",
       "      <td>1.0</td>\n",
       "      <td>17960.0</td>\n",
       "      <td>IL</td>\n",
       "      <td>0.000056</td>\n",
       "    </tr>\n",
       "    <tr>\n",
       "      <th>3</th>\n",
       "      <td>2003</td>\n",
       "      <td>Boone County</td>\n",
       "      <td>4.0</td>\n",
       "      <td>46242.0</td>\n",
       "      <td>IL</td>\n",
       "      <td>0.000087</td>\n",
       "    </tr>\n",
       "    <tr>\n",
       "      <th>4</th>\n",
       "      <td>2003</td>\n",
       "      <td>Brown County</td>\n",
       "      <td>1.0</td>\n",
       "      <td>6997.0</td>\n",
       "      <td>IL</td>\n",
       "      <td>0.000143</td>\n",
       "    </tr>\n",
       "    <tr>\n",
       "      <th>...</th>\n",
       "      <td>...</td>\n",
       "      <td>...</td>\n",
       "      <td>...</td>\n",
       "      <td>...</td>\n",
       "      <td>...</td>\n",
       "      <td>...</td>\n",
       "    </tr>\n",
       "    <tr>\n",
       "      <th>4454</th>\n",
       "      <td>2015</td>\n",
       "      <td>Whitfield County</td>\n",
       "      <td>12.0</td>\n",
       "      <td>103669.0</td>\n",
       "      <td>GA</td>\n",
       "      <td>0.000116</td>\n",
       "    </tr>\n",
       "    <tr>\n",
       "      <th>4455</th>\n",
       "      <td>2015</td>\n",
       "      <td>Wilcox County</td>\n",
       "      <td>1.0</td>\n",
       "      <td>9024.0</td>\n",
       "      <td>GA</td>\n",
       "      <td>0.000111</td>\n",
       "    </tr>\n",
       "    <tr>\n",
       "      <th>4456</th>\n",
       "      <td>2015</td>\n",
       "      <td>Wilkes County</td>\n",
       "      <td>8.0</td>\n",
       "      <td>9911.0</td>\n",
       "      <td>GA</td>\n",
       "      <td>0.000807</td>\n",
       "    </tr>\n",
       "    <tr>\n",
       "      <th>4457</th>\n",
       "      <td>2015</td>\n",
       "      <td>Wilkinson County</td>\n",
       "      <td>8.0</td>\n",
       "      <td>9080.0</td>\n",
       "      <td>GA</td>\n",
       "      <td>0.000881</td>\n",
       "    </tr>\n",
       "    <tr>\n",
       "      <th>4458</th>\n",
       "      <td>2015</td>\n",
       "      <td>Worth County</td>\n",
       "      <td>5.0</td>\n",
       "      <td>20688.0</td>\n",
       "      <td>GA</td>\n",
       "      <td>0.000242</td>\n",
       "    </tr>\n",
       "  </tbody>\n",
       "</table>\n",
       "<p>4459 rows × 6 columns</p>\n",
       "</div>"
      ],
      "text/plain": [
       "      Year            County  Deaths  Population State  Mortality Rate\n",
       "0     2003      Adams County     8.0     67267.0    IL        0.000119\n",
       "1     2003  Alexander County     0.0      9254.0    IL        0.000000\n",
       "2     2003       Bond County     1.0     17960.0    IL        0.000056\n",
       "3     2003      Boone County     4.0     46242.0    IL        0.000087\n",
       "4     2003      Brown County     1.0      6997.0    IL        0.000143\n",
       "...    ...               ...     ...         ...   ...             ...\n",
       "4454  2015  Whitfield County    12.0    103669.0    GA        0.000116\n",
       "4455  2015     Wilcox County     1.0      9024.0    GA        0.000111\n",
       "4456  2015     Wilkes County     8.0      9911.0    GA        0.000807\n",
       "4457  2015  Wilkinson County     8.0      9080.0    GA        0.000881\n",
       "4458  2015      Worth County     5.0     20688.0    GA        0.000242\n",
       "\n",
       "[4459 rows x 6 columns]"
      ]
     },
     "execution_count": 4,
     "metadata": {},
     "output_type": "execute_result"
    }
   ],
   "source": [
    "mortality_compare_to_fl"
   ]
  },
  {
   "cell_type": "code",
   "execution_count": 5,
   "metadata": {},
   "outputs": [
    {
     "data": {
      "text/plain": [
       "276"
      ]
     },
     "execution_count": 5,
     "metadata": {},
     "output_type": "execute_result"
    }
   ],
   "source": [
    "mortality_compare_to_fl[\"County\"].nunique()"
   ]
  },
  {
   "cell_type": "markdown",
   "metadata": {},
   "source": [
    "#### Florida"
   ]
  },
  {
   "cell_type": "code",
   "execution_count": 6,
   "metadata": {},
   "outputs": [],
   "source": [
    "# seperate to pre and post policy periods for FL and comparison states (average of PA, AR, NM)\n",
    "\n",
    "x_pre_fl = np.array(fl_mortality[fl_mortality[\"Year\"] < 2010][\"Year\"])\n",
    "y_pre_fl = np.array(fl_mortality[fl_mortality[\"Year\"] < 2010][\"Mortality Rate\"])\n",
    "x_post_fl = np.array(fl_mortality[fl_mortality[\"Year\"] >= 2010][\"Year\"])\n",
    "y_post_fl = np.array(fl_mortality[fl_mortality[\"Year\"] >= 2010][\"Mortality Rate\"])\n",
    "\n",
    "x_pre_comp_fl = np.array(\n",
    "    mortality_compare_to_fl[mortality_compare_to_fl[\"Year\"] < 2010][\"Year\"]\n",
    ")\n",
    "y_pre_comp_fl = np.array(\n",
    "    mortality_compare_to_fl[mortality_compare_to_fl[\"Year\"] < 2010][\"Mortality Rate\"]\n",
    ")\n",
    "x_post_comp_fl = np.array(\n",
    "    mortality_compare_to_fl[mortality_compare_to_fl[\"Year\"] >= 2010][\"Year\"]\n",
    ")\n",
    "y_post_comp_fl = np.array(\n",
    "    mortality_compare_to_fl[mortality_compare_to_fl[\"Year\"] >= 2010][\"Mortality Rate\"]\n",
    ")"
   ]
  },
  {
   "cell_type": "code",
   "execution_count": 7,
   "metadata": {},
   "outputs": [],
   "source": [
    "def plot_diff_in_diff(State_ABBR, x_pre, y_pre, x_post, y_post, x_pre_comp, y_pre_comp, x_post_comp, y_post_comp, policy_year):\n",
    "    import warnings\n",
    "\n",
    "    warnings.filterwarnings(\"ignore\")\n",
    "\n",
    "    fig, ax = plt.subplots()\n",
    "    m, b = np.polyfit(x_pre, y_pre, 1)\n",
    "    plt.plot(x_pre, m * x_pre + b, color=\"red\")\n",
    "    ax = sns.regplot(x_pre, y_pre, ci=95, color=\"r\", scatter=False)\n",
    "\n",
    "    m, b = np.polyfit(x_post, y_post, 1)\n",
    "    plt.plot(x_post, m * x_post + b, color=\"red\", label=\"Texas\")\n",
    "    ax = sns.regplot(x_post, y_post, ci=95, color=\"r\", scatter=False)\n",
    "\n",
    "    m, b = np.polyfit(x_pre_comp, y_pre_comp, 1)\n",
    "    plt.plot(x_pre_comp, m * x_pre_comp + b, color=\"blue\")\n",
    "    ax = sns.regplot(x_pre_comp, y_pre_comp, ci=95, color=\"b\", scatter=False)\n",
    "\n",
    "    m, b = np.polyfit(x_post_comp, y_post_comp, 1)\n",
    "    plt.plot(x_post_comp, m * x_post_comp + b, color=\"blue\", label=\"Comparison\")\n",
    "    ax = sns.regplot(x_post_comp, y_post_comp, ci=95, color=\"b\", scatter=False)\n",
    "\n",
    "    plt.xlabel(\"Year\")\n",
    "    plt.ylabel(\"Avg. Mortality Rate\")\n",
    "    plt.title(State_ABBR + \" Diff-in-Diff Model Graph\")\n",
    "    plt.axvline(x=policy_year, color=\"black\", ls=\":\")\n",
    "    plt.text(policy_year + 0.2, y_post.mean() * 0.85, \"Policy Change\", fontsize=12)\n",
    "    plt.text(2003.3, y_pre.mean() * 1.1, \"CI:95%\", fontsize=10)\n",
    "    plt.grid(b=True, which=\"major\", color=\"#999999\", linestyle=\"-\", alpha=0.2)\n",
    "\n",
    "    plt.legend(loc=\"upper left\")\n",
    "    plt.show()"
   ]
  },
  {
   "cell_type": "code",
   "execution_count": 8,
   "metadata": {},
   "outputs": [
    {
     "data": {
      "image/png": "[encoded data removed]",
      "text/plain": [
       "<Figure size 432x288 with 1 Axes>"
      ]
     },
     "metadata": {
      "needs_background": "light"
     },
     "output_type": "display_data"
    }
   ],
   "source": [
    "plot_diff_in_diff(\"FL\", x_pre_fl, y_pre_fl, x_post_fl, y_post_fl, x_pre_comp_fl, y_pre_comp_fl, x_post_comp_fl, y_post_comp_fl, 2010)"
   ]
  },
  {
   "cell_type": "markdown",
   "metadata": {},
   "source": [
    "### Texas"
   ]
  },
  {
   "cell_type": "code",
   "execution_count": 9,
   "metadata": {},
   "outputs": [],
   "source": [
    "# seperate to pre and post policy periods for TX and comparison states (average of CO, ID, MI)\n",
    "\n",
    "x_pre_tx = np.array(tx_mortality[tx_mortality[\"Year\"] < 2007][\"Year\"])\n",
    "y_pre_tx = np.array(tx_mortality[tx_mortality[\"Year\"] < 2007][\"Mortality Rate\"])\n",
    "x_post_tx = np.array(tx_mortality[tx_mortality[\"Year\"] >= 2007][\"Year\"])\n",
    "y_post_tx = np.array(tx_mortality[tx_mortality[\"Year\"] >= 2007][\"Mortality Rate\"])\n",
    "\n",
    "x_pre_comp_tx = np.array(\n",
    "    mortality_compare_to_tx[mortality_compare_to_tx[\"Year\"] < 2007][\"Year\"]\n",
    ")\n",
    "y_pre_comp_tx = np.array(\n",
    "    mortality_compare_to_tx[mortality_compare_to_tx[\"Year\"] < 2007][\"Mortality Rate\"]\n",
    ")\n",
    "x_post_comp_tx = np.array(\n",
    "    mortality_compare_to_tx[mortality_compare_to_tx[\"Year\"] >= 2007][\"Year\"]\n",
    ")\n",
    "y_post_comp_tx = np.array(\n",
    "    mortality_compare_to_tx[mortality_compare_to_tx[\"Year\"] >= 2007][\"Mortality Rate\"]\n",
    ")"
   ]
  },
  {
   "cell_type": "code",
   "execution_count": 10,
   "metadata": {},
   "outputs": [
    {
     "data": {
      "image/png": "[encoded data removed]",
      "text/plain": [
       "<Figure size 432x288 with 1 Axes>"
      ]
     },
     "metadata": {
      "needs_background": "light"
     },
     "output_type": "display_data"
    }
   ],
   "source": [
    "plot_diff_in_diff(\"TX\", x_pre_tx, y_pre_tx, x_post_tx, y_post_tx, x_pre_comp_tx, y_pre_comp_tx, x_post_comp_tx, y_post_comp_tx, 2007)"
   ]
  },
  {
   "cell_type": "markdown",
   "metadata": {},
   "source": [
    "#### Washington"
   ]
  },
  {
   "cell_type": "code",
   "execution_count": 11,
   "metadata": {},
   "outputs": [],
   "source": [
    "# seperate to pre and post policy periods for WA and comparison states (average of OR, CA, NV)\n",
    "\n",
    "x_pre_wa = np.array(wa_mortality[wa_mortality[\"Year\"] < 2012][\"Year\"])\n",
    "y_pre_wa = np.array(wa_mortality[wa_mortality[\"Year\"] < 2012][\"Mortality Rate\"])\n",
    "x_post_wa = np.array(wa_mortality[wa_mortality[\"Year\"] >= 2012][\"Year\"])\n",
    "y_post_wa = np.array(wa_mortality[wa_mortality[\"Year\"] >= 2012][\"Mortality Rate\"])\n",
    "\n",
    "x_pre_comp_wa = np.array(\n",
    "    mortality_compare_to_wa[mortality_compare_to_wa[\"Year\"] < 2012][\"Year\"]\n",
    ")\n",
    "y_pre_comp_wa = np.array(\n",
    "    mortality_compare_to_wa[mortality_compare_to_wa[\"Year\"] < 2012][\"Mortality Rate\"]\n",
    ")\n",
    "x_post_comp_wa = np.array(\n",
    "    mortality_compare_to_wa[mortality_compare_to_wa[\"Year\"] >= 2012][\"Year\"]\n",
    ")\n",
    "y_post_comp_wa = np.array(\n",
    "    mortality_compare_to_wa[mortality_compare_to_wa[\"Year\"] >= 2012][\"Mortality Rate\"]\n",
    ")"
   ]
  },
  {
   "cell_type": "code",
   "execution_count": 12,
   "metadata": {},
   "outputs": [
    {
     "data": {
      "image/png": "[encoded data removed]",
      "text/plain": [
       "<Figure size 432x288 with 1 Axes>"
      ]
     },
     "metadata": {
      "needs_background": "light"
     },
     "output_type": "display_data"
    }
   ],
   "source": [
    "plot_diff_in_diff(\"WA\", x_pre_wa, y_pre_wa, x_post_wa, y_post_wa, x_pre_comp_wa, y_pre_comp_wa, x_post_comp_wa, y_post_comp_wa, 2012)"
   ]
  }
 ],
 "metadata": {
  "interpreter": {
   "hash": "700bb603e43123d7b6bd306bb5408cf962c46eb798a3089a38b934e6c82bf2ad"
  },
  "kernelspec": {
   "display_name": "Python 3.9.5 64-bit ('base': conda)",
   "name": "python3"
  },
  "language_info": {
   "codemirror_mode": {
    "name": "ipython",
    "version": 3
   },
   "file_extension": ".py",
   "mimetype": "text/x-python",
   "name": "python",
   "nbconvert_exporter": "python",
   "pygments_lexer": "ipython3",
   "version": "3.9.5"
  }
 },
 "nbformat": 4,
 "nbformat_minor": 4
}
